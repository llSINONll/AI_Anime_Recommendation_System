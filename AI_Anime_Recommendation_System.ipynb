{
  "cells": [
    {
      "cell_type": "markdown",
      "metadata": {
        "id": "lPt3yyaeXEOS"
      },
      "source": [
        "#**AI ANIME RECOMMENDATION SYSTEM USING TF-IDF + Cosine Similarity**"
      ]
    },
    {
      "cell_type": "markdown",
      "metadata": {
        "id": "pYQoAxI3Xumb"
      },
      "source": [
        "#STEP 1: Import Libraries"
      ]
    },
    {
      "cell_type": "code",
      "execution_count": 1,
      "metadata": {
        "id": "UxuRYawwi4Ym"
      },
      "outputs": [],
      "source": [
        "import pandas as pd\n",
        "import numpy as np\n",
        "from sklearn.feature_extraction.text import TfidfVectorizer\n",
        "from sklearn.metrics.pairwise import cosine_similarity\n",
        "import matplotlib.pyplot as plt"
      ]
    },
    {
      "cell_type": "markdown",
      "metadata": {
        "id": "ypPIkzl2X8rC"
      },
      "source": [
        "#STEP 2: Upload the Dataset (anime.csv from Kaggle)"
      ]
    },
    {
      "cell_type": "code",
      "execution_count": 2,
      "metadata": {
        "colab": {
          "base_uri": "https://localhost:8080/",
          "height": 73
        },
        "id": "NS_vrpc0oBaQ",
        "outputId": "f8e05c27-f9dc-4a1d-81c6-353eec379e7a"
      },
      "outputs": [
        {
          "data": {
            "text/html": [
              "\n",
              "     <input type=\"file\" id=\"files-81e5d6c5-ec6d-46aa-b1c5-d3ca05edba98\" name=\"files[]\" multiple disabled\n",
              "        style=\"border:none\" />\n",
              "     <output id=\"result-81e5d6c5-ec6d-46aa-b1c5-d3ca05edba98\">\n",
              "      Upload widget is only available when the cell has been executed in the\n",
              "      current browser session. Please rerun this cell to enable.\n",
              "      </output>\n",
              "      <script>// Copyright 2017 Google LLC\n",
              "//\n",
              "// Licensed under the Apache License, Version 2.0 (the \"License\");\n",
              "// you may not use this file except in compliance with the License.\n",
              "// You may obtain a copy of the License at\n",
              "//\n",
              "//      http://www.apache.org/licenses/LICENSE-2.0\n",
              "//\n",
              "// Unless required by applicable law or agreed to in writing, software\n",
              "// distributed under the License is distributed on an \"AS IS\" BASIS,\n",
              "// WITHOUT WARRANTIES OR CONDITIONS OF ANY KIND, either express or implied.\n",
              "// See the License for the specific language governing permissions and\n",
              "// limitations under the License.\n",
              "\n",
              "/**\n",
              " * @fileoverview Helpers for google.colab Python module.\n",
              " */\n",
              "(function(scope) {\n",
              "function span(text, styleAttributes = {}) {\n",
              "  const element = document.createElement('span');\n",
              "  element.textContent = text;\n",
              "  for (const key of Object.keys(styleAttributes)) {\n",
              "    element.style[key] = styleAttributes[key];\n",
              "  }\n",
              "  return element;\n",
              "}\n",
              "\n",
              "// Max number of bytes which will be uploaded at a time.\n",
              "const MAX_PAYLOAD_SIZE = 100 * 1024;\n",
              "\n",
              "function _uploadFiles(inputId, outputId) {\n",
              "  const steps = uploadFilesStep(inputId, outputId);\n",
              "  const outputElement = document.getElementById(outputId);\n",
              "  // Cache steps on the outputElement to make it available for the next call\n",
              "  // to uploadFilesContinue from Python.\n",
              "  outputElement.steps = steps;\n",
              "\n",
              "  return _uploadFilesContinue(outputId);\n",
              "}\n",
              "\n",
              "// This is roughly an async generator (not supported in the browser yet),\n",
              "// where there are multiple asynchronous steps and the Python side is going\n",
              "// to poll for completion of each step.\n",
              "// This uses a Promise to block the python side on completion of each step,\n",
              "// then passes the result of the previous step as the input to the next step.\n",
              "function _uploadFilesContinue(outputId) {\n",
              "  const outputElement = document.getElementById(outputId);\n",
              "  const steps = outputElement.steps;\n",
              "\n",
              "  const next = steps.next(outputElement.lastPromiseValue);\n",
              "  return Promise.resolve(next.value.promise).then((value) => {\n",
              "    // Cache the last promise value to make it available to the next\n",
              "    // step of the generator.\n",
              "    outputElement.lastPromiseValue = value;\n",
              "    return next.value.response;\n",
              "  });\n",
              "}\n",
              "\n",
              "/**\n",
              " * Generator function which is called between each async step of the upload\n",
              " * process.\n",
              " * @param {string} inputId Element ID of the input file picker element.\n",
              " * @param {string} outputId Element ID of the output display.\n",
              " * @return {!Iterable<!Object>} Iterable of next steps.\n",
              " */\n",
              "function* uploadFilesStep(inputId, outputId) {\n",
              "  const inputElement = document.getElementById(inputId);\n",
              "  inputElement.disabled = false;\n",
              "\n",
              "  const outputElement = document.getElementById(outputId);\n",
              "  outputElement.innerHTML = '';\n",
              "\n",
              "  const pickedPromise = new Promise((resolve) => {\n",
              "    inputElement.addEventListener('change', (e) => {\n",
              "      resolve(e.target.files);\n",
              "    });\n",
              "  });\n",
              "\n",
              "  const cancel = document.createElement('button');\n",
              "  inputElement.parentElement.appendChild(cancel);\n",
              "  cancel.textContent = 'Cancel upload';\n",
              "  const cancelPromise = new Promise((resolve) => {\n",
              "    cancel.onclick = () => {\n",
              "      resolve(null);\n",
              "    };\n",
              "  });\n",
              "\n",
              "  // Wait for the user to pick the files.\n",
              "  const files = yield {\n",
              "    promise: Promise.race([pickedPromise, cancelPromise]),\n",
              "    response: {\n",
              "      action: 'starting',\n",
              "    }\n",
              "  };\n",
              "\n",
              "  cancel.remove();\n",
              "\n",
              "  // Disable the input element since further picks are not allowed.\n",
              "  inputElement.disabled = true;\n",
              "\n",
              "  if (!files) {\n",
              "    return {\n",
              "      response: {\n",
              "        action: 'complete',\n",
              "      }\n",
              "    };\n",
              "  }\n",
              "\n",
              "  for (const file of files) {\n",
              "    const li = document.createElement('li');\n",
              "    li.append(span(file.name, {fontWeight: 'bold'}));\n",
              "    li.append(span(\n",
              "        `(${file.type || 'n/a'}) - ${file.size} bytes, ` +\n",
              "        `last modified: ${\n",
              "            file.lastModifiedDate ? file.lastModifiedDate.toLocaleDateString() :\n",
              "                                    'n/a'} - `));\n",
              "    const percent = span('0% done');\n",
              "    li.appendChild(percent);\n",
              "\n",
              "    outputElement.appendChild(li);\n",
              "\n",
              "    const fileDataPromise = new Promise((resolve) => {\n",
              "      const reader = new FileReader();\n",
              "      reader.onload = (e) => {\n",
              "        resolve(e.target.result);\n",
              "      };\n",
              "      reader.readAsArrayBuffer(file);\n",
              "    });\n",
              "    // Wait for the data to be ready.\n",
              "    let fileData = yield {\n",
              "      promise: fileDataPromise,\n",
              "      response: {\n",
              "        action: 'continue',\n",
              "      }\n",
              "    };\n",
              "\n",
              "    // Use a chunked sending to avoid message size limits. See b/62115660.\n",
              "    let position = 0;\n",
              "    do {\n",
              "      const length = Math.min(fileData.byteLength - position, MAX_PAYLOAD_SIZE);\n",
              "      const chunk = new Uint8Array(fileData, position, length);\n",
              "      position += length;\n",
              "\n",
              "      const base64 = btoa(String.fromCharCode.apply(null, chunk));\n",
              "      yield {\n",
              "        response: {\n",
              "          action: 'append',\n",
              "          file: file.name,\n",
              "          data: base64,\n",
              "        },\n",
              "      };\n",
              "\n",
              "      let percentDone = fileData.byteLength === 0 ?\n",
              "          100 :\n",
              "          Math.round((position / fileData.byteLength) * 100);\n",
              "      percent.textContent = `${percentDone}% done`;\n",
              "\n",
              "    } while (position < fileData.byteLength);\n",
              "  }\n",
              "\n",
              "  // All done.\n",
              "  yield {\n",
              "    response: {\n",
              "      action: 'complete',\n",
              "    }\n",
              "  };\n",
              "}\n",
              "\n",
              "scope.google = scope.google || {};\n",
              "scope.google.colab = scope.google.colab || {};\n",
              "scope.google.colab._files = {\n",
              "  _uploadFiles,\n",
              "  _uploadFilesContinue,\n",
              "};\n",
              "})(self);\n",
              "</script> "
            ],
            "text/plain": [
              "<IPython.core.display.HTML object>"
            ]
          },
          "metadata": {},
          "output_type": "display_data"
        },
        {
          "name": "stdout",
          "output_type": "stream",
          "text": [
            "Saving anime.csv to anime.csv\n"
          ]
        }
      ],
      "source": [
        "from google.colab import files\n",
        "uploaded = files.upload()"
      ]
    },
    {
      "cell_type": "markdown",
      "metadata": {
        "id": "6hDj33eJYIbM"
      },
      "source": [
        "#STEP 3: Load & Preprocess the Dataset"
      ]
    },
    {
      "cell_type": "code",
      "execution_count": 3,
      "metadata": {
        "id": "3RZdJJXcYJD6"
      },
      "outputs": [],
      "source": [
        "anime_df = pd.read_csv(\"anime.csv\")\n",
        "# Drop rows with missing genres\n",
        "anime_df = anime_df.dropna(subset=['genre'])\n",
        "\n",
        "# Clean and format genres\n",
        "anime_df['genre'] = anime_df['genre'].str.replace(\", \", \",\")  # remove space after commas\n",
        "anime_df['genre'] = anime_df['genre'].str.lower()  # convert to lowercase\n",
        "\n",
        "# Fill missing anime names\n",
        "anime_df['name'] = anime_df['name'].fillna(\"Unknown\")\n",
        "\n",
        "# Use only useful columns\n",
        "anime_df = anime_df[['name', 'genre', 'type', 'rating']]"
      ]
    },
    {
      "cell_type": "markdown",
      "metadata": {
        "id": "NSKuc5uFYdat"
      },
      "source": [
        "#STEP 4: TF-IDF Vectorization on Genre Field"
      ]
    },
    {
      "cell_type": "code",
      "execution_count": 4,
      "metadata": {
        "id": "sxqC8EOYYhI-"
      },
      "outputs": [],
      "source": [
        "tfidf = TfidfVectorizer()\n",
        "tfidf_matrix = tfidf.fit_transform(anime_df['genre'])"
      ]
    },
    {
      "cell_type": "markdown",
      "metadata": {
        "id": "xuYaxB9UYkWg"
      },
      "source": [
        "#STEP 5: Compute Cosine Similarity"
      ]
    },
    {
      "cell_type": "code",
      "execution_count": 5,
      "metadata": {
        "id": "Vhuw50mpYklQ"
      },
      "outputs": [],
      "source": [
        "cosine_sim = cosine_similarity(tfidf_matrix, tfidf_matrix)"
      ]
    },
    {
      "cell_type": "markdown",
      "metadata": {
        "id": "UNJrgoW0YwDT"
      },
      "source": [
        "#STEP 6: Build Name-to-Index Mapping"
      ]
    },
    {
      "cell_type": "code",
      "execution_count": 6,
      "metadata": {
        "id": "gj15nv9bYwRy"
      },
      "outputs": [],
      "source": [
        "indices = pd.Series(anime_df.index, index=anime_df['name']).drop_duplicates()"
      ]
    },
    {
      "cell_type": "markdown",
      "metadata": {
        "id": "d8A5zUJvY4hT"
      },
      "source": [
        "#STEP 7: Recommendation Function"
      ]
    },
    {
      "cell_type": "code",
      "execution_count": 7,
      "metadata": {
        "id": "Co7uXwF1Y4xa"
      },
      "outputs": [],
      "source": [
        "def recommend_anime(title, top_n=5):\n",
        "    if title not in indices:\n",
        "        return pd.DataFrame([{\"Error\": \"Anime not found in dataset.\"}])\n",
        "\n",
        "    idx = indices[title]\n",
        "    sim_scores = list(enumerate(cosine_sim[idx]))\n",
        "    sim_scores = sorted(sim_scores, key=lambda x: x[1], reverse=True)[1:top_n+1]\n",
        "    anime_indices = [i[0] for i in sim_scores]\n",
        "\n",
        "    return anime_df[['name', 'genre', 'rating']].iloc[anime_indices]"
      ]
    },
    {
      "cell_type": "markdown",
      "metadata": {
        "id": "0FmgcNZQY_lf"
      },
      "source": [
        "#STEP 8: Test a Single Recommendation"
      ]
    },
    {
      "cell_type": "code",
      "execution_count": 8,
      "metadata": {
        "colab": {
          "base_uri": "https://localhost:8080/"
        },
        "id": "vqZUKk1nY_31",
        "outputId": "c1fd0bb6-20a2-4917-ca47-a8fa3ce150f2"
      },
      "outputs": [
        {
          "name": "stdout",
          "output_type": "stream",
          "text": [
            "Top recommendations for 'Death Note':\n",
            "                               name  \\\n",
            "778              Death Note Rewrite   \n",
            "981                 Mousou Dairinin   \n",
            "144   Higurashi no Naku Koro ni Kai   \n",
            "1383  Higurashi no Naku Koro ni Rei   \n",
            "445                Mirai Nikki (TV)   \n",
            "\n",
            "                                                  genre  rating  \n",
            "778   mystery,police,psychological,supernatural,thri...    7.84  \n",
            "981   drama,mystery,police,psychological,supernatura...    7.74  \n",
            "144         mystery,psychological,supernatural,thriller    8.41  \n",
            "1383  comedy,mystery,psychological,supernatural,thri...    7.56  \n",
            "445   action,mystery,psychological,shounen,supernatu...    8.07  \n"
          ]
        }
      ],
      "source": [
        "title = \"Death Note\"\n",
        "recommendations = recommend_anime(title)\n",
        "print(f\"Top recommendations for '{title}':\")\n",
        "print(recommendations)"
      ]
    },
    {
      "cell_type": "markdown",
      "metadata": {
        "id": "5Qnbycs0ZGcJ"
      },
      "source": [
        "#STEP 9: Precision@K Evaluation Function"
      ]
    },
    {
      "cell_type": "code",
      "execution_count": 9,
      "metadata": {
        "id": "3W83QKE8ZGwp"
      },
      "outputs": [],
      "source": [
        "def precision_at_k(title, k=5):\n",
        "    if title not in indices:\n",
        "        print(f\"'{title}' not found in dataset.\")\n",
        "        return 0.0\n",
        "\n",
        "    idx = indices[title]\n",
        "    input_genres = set(anime_df['genre'].iloc[idx].split(','))\n",
        "\n",
        "    recommended = recommend_anime(title, top_n=k)\n",
        "    match_count = 0\n",
        "\n",
        "    for _, row in recommended.iterrows():\n",
        "        rec_genres = set(str(row['genre']).split(','))\n",
        "        if input_genres & rec_genres:\n",
        "            match_count += 1\n",
        "\n",
        "    return match_count / k"
      ]
    },
    {
      "cell_type": "markdown",
      "metadata": {
        "id": "la9dOkU3ZORj"
      },
      "source": [
        "#STEP 10: Evaluate on Popular Test Titles"
      ]
    },
    {
      "cell_type": "code",
      "execution_count": null,
      "metadata": {
        "colab": {
          "base_uri": "https://localhost:8080/"
        },
        "id": "i7pn5i0HZOjK",
        "outputId": "8c94a584-6f03-4273-c2b6-c234f07da5ac"
      },
      "outputs": [
        {
          "name": "stdout",
          "output_type": "stream",
          "text": [
            "Precision@5 for 'Death Note': 1.00\n",
            "Precision@5 for 'Naruto': 1.00\n",
            "Precision@5 for 'One Piece': 1.00\n",
            "Precision@5 for 'Shingeki no Kyojin': 1.00\n",
            "Precision@5 for 'Sword Art Online': 1.00\n",
            "Precision@5 for 'Fullmetal Alchemist: Brotherhood': 1.00\n",
            "Precision@5 for 'Tokyo Ghoul': 1.00\n",
            "Precision@5 for 'Bleach': 1.00\n",
            "Precision@5 for 'Steins;Gate': 1.00\n",
            "Precision@5 for 'Kimi no Na wa.': 1.00\n",
            "\n",
            "Average Precision@5: 100.00%\n"
          ]
        }
      ],
      "source": [
        "test_titles = [\n",
        "    \"Death Note\",\n",
        "    \"Naruto\",\n",
        "    \"One Piece\",\n",
        "    \"Shingeki no Kyojin\",  # Attack on Titan\n",
        "    \"Sword Art Online\",\n",
        "    \"Fullmetal Alchemist: Brotherhood\",\n",
        "    \"Tokyo Ghoul\",\n",
        "    \"Bleach\",\n",
        "    \"Steins;Gate\",\n",
        "    \"Kimi no Na wa.\"  # Your Name\n",
        "]\n",
        "\n",
        "precisions = []\n",
        "for t in test_titles:\n",
        "    p = precision_at_k(t, k=5)\n",
        "    precisions.append(p)\n",
        "    print(f\"Precision@5 for '{t}': {p:.2f}\")\n",
        "\n",
        "avg_precision = np.mean(precisions)\n",
        "print(f\"\\nAverage Precision@5: {avg_precision*100:.2f}%\")"
      ]
    },
    {
      "cell_type": "markdown",
      "metadata": {
        "id": "7QXMYMIEZWbM"
      },
      "source": [
        "#STEP 11: Visualize Results"
      ]
    },
    {
      "cell_type": "code",
      "execution_count": 11,
      "metadata": {
        "colab": {
          "base_uri": "https://localhost:8080/",
          "height": 704
        },
        "id": "sChWLzCzZWsL",
        "outputId": "2c04e3db-5991-4e45-fb0f-374ed28ea66f"
      },
      "outputs": [
        {
          "data": {
            "image/png": "[encoded data removed]",
            "text/plain": [
              "<Figure size 1000x600 with 1 Axes>"
            ]
          },
          "metadata": {},
          "output_type": "display_data"
        }
      ],
      "source": [
        "plt.figure(figsize=(10,6))\n",
        "plt.bar(test_titles, precisions, color='orchid')\n",
        "plt.title(\"Precision@5 for Popular Anime\")\n",
        "plt.ylabel(\"Precision Score\")\n",
        "plt.xticks(rotation=45)\n",
        "plt.ylim(0, 1)\n",
        "plt.grid(True, linestyle='--', alpha=0.5)\n",
        "plt.show()"
      ]
    }
  ],
  "metadata": {
    "colab": {
      "provenance": []
    },
    "kernelspec": {
      "display_name": "Python 3",
      "name": "python3"
    },
    "language_info": {
      "name": "python"
    }
  },
  "nbformat": 4,
  "nbformat_minor": 0
}
